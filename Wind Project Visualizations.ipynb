{
 "cells": [
  {
   "cell_type": "code",
   "execution_count": null,
   "metadata": {},
   "outputs": [],
   "source": [
    "import pandas as pd\n",
    "df2 = pd.read_csv(\"weather_data.csv\")\n",
    "import pandas as pd\n",
    "df2['Temperature (C)'] = df2['Temperature (C)'] + 273.15\n",
    "df2['Temperature (K)'] = df2['Temperature (C)']\n",
    "df2 = df2.drop(columns=['Temperature (C)'])"
   ]
  },
  {
   "cell_type": "code",
   "execution_count": null,
   "metadata": {},
   "outputs": [],
   "source": [
    "#Power = Cp 1/2 ρ A V³\n",
    "#P = Power output, watts\n",
    "#Cp = Maximum power coefficient, ranging from 0.25 to 0.45, dimension less (theoretical maximum = 0.59)\n",
    "#ρ = Air density, kg/m³\n",
    "#A = Rotor swept area, m² or\n",
    "#π D² / 4 (D is the rotor diameter in m, π = 3.1416)\n",
    "#V = Wind speed, mps[2]\n",
    "\n",
    "# density = pressure / (temp * constant)\n",
    "\n",
    "\n",
    "#air density: https://www.brisbanehotairballooning.com.au/calculate-air-density/\n",
    "specific_gas_constant_for_dry_air = 287.05 # in J/(kg.K)\n",
    "#https://openei.org/wiki/Small_Wind_Guidebook/How_Much_Energy_Will_My_System_Generate\n",
    "Maximum_power_coefficient = .35\n",
    "#all turbines: http://www.aweo.org/windmodels.html\n",
    "#we are using the wind turbine: GE 1.5s \n",
    "#GE 1.5s turbine: https://www.en.wind-turbine-models.com/turbines/565-general-electric-ge-1.5s\n",
    "Rotor_swept_area = 3904 #m^2 got \n",
    "\n",
    "def calculate_power(wind_speed, air_pressure, temp):\n",
    "    air_density = air_pressure / (temp * specific_gas_constant_for_dry_air)\n",
    "    power = Maximum_power_coefficient * .5 * air_density * Rotor_swept_area * (wind_speed ** 3)\n",
    "    return power"
   ]
  },
  {
   "cell_type": "code",
   "execution_count": null,
   "metadata": {},
   "outputs": [],
   "source": [
    "powers = []\n",
    "for index, row in df2.iterrows():\n",
    "    powers.append(calculate_power(row['Wind Speed (m_s-1)'], row['Air Pressure (pa)'], row['Temperature (K)']))\n",
    "df2['Power Generated (watts)'] = powers\n",
    "df2"
   ]
  },
  {
   "cell_type": "code",
   "execution_count": null,
   "metadata": {},
   "outputs": [],
   "source": [
    "import plotly.express as px\n",
    "fig = px.line(df2, x=\"Time Period\", y=\"Power Generated (watts)\", \n",
    "              title='Power Generated in watts per Time Period', template=\"none\")\n",
    "fig.show()"
   ]
  },
  {
   "cell_type": "code",
   "execution_count": null,
   "metadata": {},
   "outputs": [],
   "source": [
    "fig = px.scatter(df2, x=\"Wind Speed (m_s-1)\", y=\"Power Generated (watts)\", #size = \"Population\",\n",
    "                     # animation_frame = \"Time Period\", #animation_group = \"Country\",\n",
    "                    #hover_name = \"Country\", size_max = 50,\n",
    "                    title='Relationship between Power Generated from Wind Turbine (watts) and Wind Speed')\n",
    "\n",
    "#modify axis label properties\n",
    "fig.update_xaxes(title_font={\"size\":18, \"family\": \"Courier\", \"color\":\"gray\"}, \n",
    "                 tickfont = {\"size\":16, \"family\": \"Courier\", \"color\":\"gray\"})\n",
    "fig.update_yaxes(title_font={\"size\":18, \"family\": \"Courier\", \"color\":\"gray\"}, \n",
    "                            tickfont = {\"size\":16, \"family\": \"Courier\", \"color\":\"gray\"})\n",
    "\n",
    "fig.show()"
   ]
  },
  {
   "cell_type": "code",
   "execution_count": null,
   "metadata": {},
   "outputs": [],
   "source": [
    "# BAD - don't want to use histogram, want to use a binned bar chart. where you bin the temperature like how it is here\n",
    "fig = px.histogram(df2, x=\"Temperature (K)\", y=\"Power Generated (watts)\", nbins=20)\n",
    "fig.show()"
   ]
  },
  {
   "cell_type": "code",
   "execution_count": null,
   "metadata": {},
   "outputs": [],
   "source": [
    "# Want to make graphs where we groupby 1) DAY 2) HOUR of day 3) Wind speed (5-6, 6-7, 7-8, etc.) \n",
    "# 4) Temperature: in below within and above certain ranges "
   ]
  },
  {
   "cell_type": "code",
   "execution_count": null,
   "metadata": {},
   "outputs": [],
   "source": [
    "# WANT AIR DENSITY vs POWER!!!!!"
   ]
  },
  {
   "cell_type": "code",
   "execution_count": null,
   "metadata": {},
   "outputs": [],
   "source": [
    "df2[\"Time Period\"].values"
   ]
  },
  {
   "cell_type": "code",
   "execution_count": null,
   "metadata": {},
   "outputs": [],
   "source": [
    "pd.cut(df2[\"Temperature (K)\"], 30)"
   ]
  },
  {
   "cell_type": "code",
   "execution_count": null,
   "metadata": {},
   "outputs": [],
   "source": [
    "df2.info()"
   ]
  },
  {
   "cell_type": "code",
   "execution_count": null,
   "metadata": {},
   "outputs": [],
   "source": [
    "# Convert Time Period to Data Type (to_DateTime)"
   ]
  }
 ],
 "metadata": {
  "kernelspec": {
   "display_name": "Python 3",
   "language": "python",
   "name": "python3"
  },
  "language_info": {
   "codemirror_mode": {
    "name": "ipython",
    "version": 3
   },
   "file_extension": ".py",
   "mimetype": "text/x-python",
   "name": "python",
   "nbconvert_exporter": "python",
   "pygments_lexer": "ipython3",
   "version": "3.7.3"
  }
 },
 "nbformat": 4,
 "nbformat_minor": 2
}
